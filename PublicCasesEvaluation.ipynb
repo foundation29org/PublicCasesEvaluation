{
 "cells": [
  {
   "cell_type": "code",
   "execution_count": 1,
   "metadata": {},
   "outputs": [],
   "source": [
    "import os\n",
    "import json\n",
    "import pandas as pd\n",
    "import numpy as np\n",
    "import matplotlib.pylab as plt\n"
   ]
  },
  {
   "cell_type": "code",
   "execution_count": 2,
   "metadata": {},
   "outputs": [],
   "source": [
    "'''\n",
    "    Dataset\n",
    "'''\n",
    "class Dataset():\n",
    "    def __init__(self, df=None):\n",
    "        self.items = []\n",
    "        if df:\n",
    "            self.add(df)\n",
    "\n",
    "    def add_df(self, df, source=None):\n",
    "        items = []\n",
    "        for row in df[['id', 'subject', 'terms']].values:\n",
    "            id = row[0]\n",
    "            subject = row[1]\n",
    "            terms = [t.strip() for t in row[2].split(',')]\n",
    "            items.append([source, id, subject, terms])\n",
    "        self.items.extend(items)\n",
    "\n",
    "    def add_fn(self, name, fn, columns):\n",
    "        df = pd.read_csv(fn, sep='\\t')\n",
    "        ds = pd.DataFrame(df[columns].values, columns=['id', 'subject', 'terms'])\n",
    "        ds.drop_duplicates(['subject', 'terms'], inplace=True)\n",
    "        ds.dropna(inplace=True)\n",
    "        self.add_df(ds, name)\n",
    "        \n",
    "    def __len__(self):\n",
    "        return len(self.items)\n",
    "\n",
    "    def __getitem__(self, idx):\n",
    "        return self.items[idx]\n"
   ]
  },
  {
   "cell_type": "code",
   "execution_count": 3,
   "metadata": {},
   "outputs": [],
   "source": [
    "'''\n",
    "    Evaluators\n",
    "'''\n",
    "import os\n",
    "import json\n",
    "import requests\n",
    "\n",
    "class Evaluator():\n",
    "    def __init__(self):\n",
    "        pass\n",
    "\n",
    "    def eval(self, id, terms):\n",
    "        pass\n",
    "\n",
    "'''\n",
    "    Phen2GeneEval\n",
    "'''\n",
    "PHEN2GENE_URL = 'https://f29bio.northeurope.cloudapp.azure.com/api/Phen2Gene/calc?weightModel=sk'\n",
    "\n",
    "class Phen2GeneEval():\n",
    "    def __init__(self, url=PHEN2GENE_URL, rows=100):\n",
    "        self.url = url + F'&rows={rows}'\n",
    "\n",
    "    def request(self, source, id, hpos):\n",
    "        source = source or 'common'\n",
    "        fn = F'_cache/{source}-{id}.json'\n",
    "        if os.path.isfile(fn):\n",
    "            with open(fn, 'r') as fp:\n",
    "                return json.load(fp)\n",
    "        resp = requests.post(self.url, json=hpos)\n",
    "        with open(fn, 'w') as fp:\n",
    "            json.dump(resp.json(), fp, indent=2)\n",
    "        return resp.json()\n",
    "\n",
    "    def validate(self, source, id, subject, terms):\n",
    "        subject = subject.upper()\n",
    "        resp = self.request(source, id, terms)\n",
    "        query = resp['query']\n",
    "        for term in query:\n",
    "            status = query[term]['status']\n",
    "            if status != 'ok':\n",
    "                print(source, id, term, status, sep='\\t')\n",
    "\n",
    "    def eval(self, source, id, subject, terms):\n",
    "        subject = subject.upper()\n",
    "        resp = self.request(source, id, terms)\n",
    "        ranking = resp['response']\n",
    "        for item in ranking:\n",
    "            if item.upper() == subject:\n",
    "                return ranking[subject]['rank']\n",
    "        return 1000\n",
    "\n",
    "'''\n",
    "    PhenolyzerEval\n",
    "'''\n",
    "class PhenolyzerEval():\n",
    "    def __init__(self):\n",
    "        pass\n",
    "\n",
    "    def eval(self, source, id, subject, terms):\n",
    "        fn = os.path.join('_phenolyzer', source, F'{id}.json')\n",
    "        with open(fn, 'r') as fp:\n",
    "            ranking = json.load(fp)\n",
    "        subject = subject.upper()\n",
    "        n = 1\n",
    "        for item in ranking:\n",
    "            if item['Name'].upper() == subject:\n",
    "                return n\n",
    "            n += 1\n",
    "        return 1000\n",
    "    "
   ]
  },
  {
   "cell_type": "code",
   "execution_count": 4,
   "metadata": {},
   "outputs": [
    {
     "name": "stdout",
     "output_type": "stream",
     "text": [
      "rao\tTCS001\tEP300\t['HP:0010301', 'HP:0000252', 'HP:0001263']\n",
      "rao\tTCS003\tSMARCB1\t['HP:0001263', 'HP:0002650', 'HP:0001382', 'HP:0002079', 'HP:0001999']\n",
      "rao\tTCS004\tLARP7\t['HP:0001263', 'HP:0004322', 'HP:0100255']\n",
      "rao\tTCS005\tKAT6B\t['HP:0007105']\n"
     ]
    }
   ],
   "source": [
    "'''\n",
    "    Load Dataset\n",
    "'''\n",
    "dataset = Dataset()\n",
    "\n",
    "dataset.add_fn('rao', '_data/rao-testCases_rarediseases_full.tsv', ['Internal ID', 'Gene', 'Clinical Indication and Phenotype (HPO)'])\n",
    "dataset.add_fn('kleyner', '_data/kleyner-testCases_rarediseases_full.tsv', ['Internal ID', 'Gene', 'Clinical Indication and Phenotype (HPO)'])\n",
    "dataset.add_fn('cipriani', '_data/cipriani-cases.tsv', ['Patient_identifier', 'Gene', 'Clinical_diagnosis_label'])\n",
    "\n",
    "# for source, id, subject, terms in dataset:\n",
    "for row in list(dataset)[:4]:\n",
    "    print(*row, sep='\\t')\n",
    "    "
   ]
  },
  {
   "cell_type": "code",
   "execution_count": 5,
   "metadata": {},
   "outputs": [],
   "source": [
    "'''\n",
    "    Plot\n",
    "'''\n",
    "def plot(d):\n",
    "    lists = sorted(d.items()) # sorted by key, return a list of tuples\n",
    "    x, y = zip(*lists) # unpack a list of pairs into two tuples\n",
    "    y = np.cumsum(y)\n",
    "    plt.plot(x, y)\n",
    "    "
   ]
  },
  {
   "cell_type": "code",
   "execution_count": 6,
   "metadata": {},
   "outputs": [
    {
     "name": "stdout",
     "output_type": "stream",
     "text": [
      "{1: 7, 2: 9, 3: 6, 4: 5, 5: 6, 6: 4, 7: 2, 8: 4, 9: 4, 10: 2, 11: 3, 12: 2, 13: 2, 14: 2, 15: 4, 16: 6, 17: 1, 18: 1, 19: 4, 20: 1, 21: 1, 22: 3, 23: 1, 24: 1, 25: 236}\n"
     ]
    },
    {
     "data": {
      "image/png": "[encoded data removed]",
      "text/plain": [
       "<Figure size 432x288 with 1 Axes>"
      ]
     },
     "metadata": {
      "needs_background": "light"
     },
     "output_type": "display_data"
    }
   ],
   "source": [
    "'''\n",
    "    Eval Phen2Gene\n",
    "'''\n",
    "phen2gene = Phen2GeneEval()\n",
    "\n",
    "ranking1 = {n + 1: 0 for n in range(25)}\n",
    "for source, id, subject, terms in dataset:\n",
    "    rank = phen2gene.eval(source, id, subject, terms)\n",
    "    if rank > 25:\n",
    "        rank = 25\n",
    "    ranking1[rank] += 1\n",
    "    # print(rank, subject, terms, sep='\\t')\n",
    "\n",
    "print(ranking1)\n",
    "\n",
    "ranking1[25] = 0\n",
    "    \n",
    "plot(ranking1)\n",
    "plt.show()\n"
   ]
  },
  {
   "cell_type": "code",
   "execution_count": 7,
   "metadata": {},
   "outputs": [
    {
     "name": "stdout",
     "output_type": "stream",
     "text": [
      "{1: 7, 2: 1, 3: 9, 4: 6, 5: 4, 6: 7, 7: 4, 8: 4, 9: 1, 10: 2, 11: 0, 12: 1, 13: 0, 14: 4, 15: 2, 16: 2, 17: 1, 18: 2, 19: 0, 20: 1, 21: 1, 22: 3, 23: 3, 24: 1, 25: 251}\n"
     ]
    },
    {
     "data": {
      "image/png": "[encoded data removed]",
      "text/plain": [
       "<Figure size 432x288 with 1 Axes>"
      ]
     },
     "metadata": {
      "needs_background": "light"
     },
     "output_type": "display_data"
    }
   ],
   "source": [
    "'''\n",
    "    Eval Phenolyzer\n",
    "'''\n",
    "phenolyzer = PhenolyzerEval()\n",
    "\n",
    "ranking2 = {n + 1: 0 for n in range(25)}\n",
    "for source, id, subject, terms in dataset:\n",
    "    rank = phenolyzer.eval(source, id, subject, terms)\n",
    "    if rank > 25:\n",
    "        rank = 25\n",
    "    ranking2[rank] += 1\n",
    "    # print(rank, subject, terms, sep='\\t')\n",
    "\n",
    "print(ranking2)\n",
    "\n",
    "ranking2[25] = 0\n",
    "    \n",
    "plot(ranking2)\n",
    "plt.show()\n"
   ]
  },
  {
   "cell_type": "code",
   "execution_count": 8,
   "metadata": {},
   "outputs": [
    {
     "data": {
      "image/png": "[encoded data removed]",
      "text/plain": [
       "<Figure size 432x288 with 1 Axes>"
      ]
     },
     "metadata": {
      "needs_background": "light"
     },
     "output_type": "display_data"
    }
   ],
   "source": [
    "plot(ranking1)\n",
    "plot(ranking2)\n",
    "plt.show()\n"
   ]
  },
  {
   "cell_type": "code",
   "execution_count": null,
   "metadata": {},
   "outputs": [],
   "source": []
  },
  {
   "cell_type": "code",
   "execution_count": null,
   "metadata": {},
   "outputs": [],
   "source": []
  }
 ],
 "metadata": {
  "kernelspec": {
   "display_name": "Python 3",
   "language": "python",
   "name": "python3"
  },
  "language_info": {
   "codemirror_mode": {
    "name": "ipython",
    "version": 3
   },
   "file_extension": ".py",
   "mimetype": "text/x-python",
   "name": "python",
   "nbconvert_exporter": "python",
   "pygments_lexer": "ipython3",
   "version": "3.7.8"
  }
 },
 "nbformat": 4,
 "nbformat_minor": 4
}
